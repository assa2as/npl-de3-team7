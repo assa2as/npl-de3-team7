{
 "cells": [
  {
   "cell_type": "code",
   "execution_count": 82,
   "metadata": {},
   "outputs": [],
   "source": [
    "import time\n",
    "query =  \"большой театр\""
   ]
  },
  {
   "cell_type": "code",
   "execution_count": 83,
   "metadata": {},
   "outputs": [
    {
     "name": "stdout",
     "output_type": "stream",
     "text": [
      "Найдено 245381 записей за 0.428с:\n",
      "25187953 \t 55.79111 \t Большой театр  \n",
      "20467618 \t 54.35475 \t Большой театр  \n",
      "17922732 \t 53.739975 \t Наш Большой театр  \n",
      "2659641 \t 52.498142 \t Трупы Большого театра  \n",
      "32876879 \t 52.41837 \t Наш Большой театр  \n",
      "7113590 \t 52.401215 \t Трупы Большого театра  \n",
      "3752910 \t 52.294712 \t Художники Большого театра  \n",
      "2890717 \t 52.153015 \t Большой Драматический Театр  \n",
      "19119731 \t 51.889175 \t Большой театр \"Малышка\"  \n",
      "6132303 \t 51.21914 \t Картина-гравюра большая \"Большой театр\"  \n"
     ]
    }
   ],
   "source": [
    "from elasticsearch import Elasticsearch\n",
    "\n",
    "es = Elasticsearch()\n",
    "t = time.time()\n",
    "res = es.search(index=\"items-index3\",\n",
    "                body={\"query\": {\"simple_query_string\": {\n",
    "                    'query': query,\n",
    "                    'fields': [ 'name^2', 'annotation' ]\n",
    "          }}})\n",
    "print(\"Найдено %d записей за %0.3fс:\" % (res['hits']['total'], time.time()-t))\n",
    "\n",
    "for hit in res['hits']['hits'][:10]:\n",
    "    print(hit[\"_id\"],'\\t',hit[\"_score\"],'\\t',hit[\"_source\"][\"name\"])"
   ]
  },
  {
   "cell_type": "code",
   "execution_count": 84,
   "metadata": {},
   "outputs": [
    {
     "name": "stdout",
     "output_type": "stream",
     "text": [
      "Найдено за 43.800с:\n",
      "6132303 \t 0.999995 \t Картина-гравюра большая \"Большой театр\"  \n",
      "27030530 \t 0.999992 \t Оперная труппа Большого театра  \n",
      "3146998 \t 0.999986 \t История русского балета. Мариинский театр. Большой театр  \n",
      "3237308 \t 0.999982 \t Большой театр (Москва). Пазл, 1000 элементов  \n",
      "24929395 \t 0.999953 \t Большой Театр СССР. Опера. Балет  \n",
      "6077685 \t 0.999933 \t Большой Театр СССР (комплект из 4 книг)  \n",
      "2488560 \t 0.999929 \t Календарь настенный перекидной на 2006. Большой театр  \n",
      "3562005 \t 0.9999 \t Большой театр СССР. История сооружения и реконструкции здания  \n",
      "5629128 \t 0.999894 \t Большой театр СССР: опера, балет  \n",
      "19064032 \t 0.999819 \t CubicFun \"Большой театр\", 29 элементов  \n"
     ]
    }
   ],
   "source": [
    "import psycopg2\n",
    "conn = psycopg2.connect(dbname=\"postgres\", host=\"localhost\", user=\"postgres\", password=\"111\")\n",
    "cur = conn.cursor()\n",
    "t = time.time()\n",
    "cur.execute(\n",
    "    \"SELECT id, name, ts_rank(make_tsvector(name,annotation),q) as rank\"+\n",
    "    \" FROM items, plainto_tsquery('russian','\"+query+\"') AS q\"+\n",
    "    \" WHERE make_tsvector(name,annotation) @@ q\"+\n",
    "    \" ORDER BY ts_rank(make_tsvector(name,annotation),q) DESC\"+\n",
    "    \" limit 10;\")\n",
    "print(\"Найдено за %0.3fс:\" % (time.time()-t))\n",
    "for id_,name, rank in cur.fetchall():\n",
    "    print(id_,'\\t',rank,'\\t',name)\n",
    "cur.close()\n",
    "conn.close()"
   ]
  },
  {
   "cell_type": "code",
   "execution_count": 85,
   "metadata": {},
   "outputs": [
    {
     "name": "stdout",
     "output_type": "stream",
     "text": [
      "Найдено 3057 записей за 0.128с:\n",
      "68332 \t 4\n",
      "73615 \t 4\n",
      "154978 \t 4\n",
      "1214580 \t 4\n",
      "1270954 \t 4\n",
      "1387794 \t 4\n",
      "2076490 \t 4\n",
      "2170711 \t 4\n",
      "2183610 \t 4\n",
      "2364686 \t 4\n",
      "[{'word': 'больш', 'docs': 283289, 'hits': 345960}, {'word': 'театр', 'docs': 19980, 'hits': 30828}]\n"
     ]
    }
   ],
   "source": [
    "from sphinxapi import *\n",
    "cl = SphinxClient()\n",
    "cl.SetServer ( '35.234.137.224', 9312 )\n",
    "cl.SetMatchMode ( SPH_MATCH_ALL )\n",
    "cl.SetLimits ( 0, 10 )\n",
    "res = cl.Query ( query, 'test1' )\n",
    "cl.SetSortMode(SPH_SORT_RELEVANCE)\n",
    "print('Найдено {} записей за {}с:'.format(res['total_found'],res['time']))\n",
    "for rec in res['matches']:\n",
    "    print(rec['id'],'\\t',rec['weight'])\n",
    "print(res['words'])"
   ]
  },
  {
   "cell_type": "code",
   "execution_count": null,
   "metadata": {},
   "outputs": [],
   "source": []
  }
 ],
 "metadata": {
  "kernelspec": {
   "display_name": "Python 3",
   "language": "python",
   "name": "python3"
  },
  "language_info": {
   "codemirror_mode": {
    "name": "ipython",
    "version": 3
   },
   "file_extension": ".py",
   "mimetype": "text/x-python",
   "name": "python",
   "nbconvert_exporter": "python",
   "pygments_lexer": "ipython3",
   "version": "3.7.0"
  }
 },
 "nbformat": 4,
 "nbformat_minor": 2
}
